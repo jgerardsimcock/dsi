{
 "cells": [
  {
   "cell_type": "code",
   "execution_count": 1,
   "metadata": {},
   "outputs": [],
   "source": [
    "import pandas as pd\n",
    "import numpy as np\n",
    "from scipy import stats\n",
    "import matplotlib.pyplot as plt\n",
    "%matplotlib inline\n",
    "import seaborn as sns\n",
    "\n",
    "\n",
    "from sklearn.preprocessing import Normalizer, StandardScaler, MinMaxScaler\n",
    "from sklearn import metrics\n",
    "from sklearn.utils import resample\n",
    "import numpy as np"
   ]
  },
  {
   "cell_type": "code",
   "execution_count": 2,
   "metadata": {},
   "outputs": [],
   "source": [
    "headers = pd.read_csv('data/field_names.txt')"
   ]
  },
  {
   "cell_type": "code",
   "execution_count": 3,
   "metadata": {},
   "outputs": [
    {
     "data": {
      "text/plain": [
       "31"
      ]
     },
     "execution_count": 3,
     "metadata": {},
     "output_type": "execute_result"
    }
   ],
   "source": [
    "len(headers)"
   ]
  },
  {
   "cell_type": "code",
   "execution_count": 4,
   "metadata": {},
   "outputs": [
    {
     "data": {
      "text/html": [
       "<div>\n",
       "<style scoped>\n",
       "    .dataframe tbody tr th:only-of-type {\n",
       "        vertical-align: middle;\n",
       "    }\n",
       "\n",
       "    .dataframe tbody tr th {\n",
       "        vertical-align: top;\n",
       "    }\n",
       "\n",
       "    .dataframe thead th {\n",
       "        text-align: right;\n",
       "    }\n",
       "</style>\n",
       "<table border=\"1\" class=\"dataframe\">\n",
       "  <thead>\n",
       "    <tr style=\"text-align: right;\">\n",
       "      <th></th>\n",
       "      <th>ID</th>\n",
       "    </tr>\n",
       "  </thead>\n",
       "  <tbody>\n",
       "    <tr>\n",
       "      <th>0</th>\n",
       "      <td>diagnosis</td>\n",
       "    </tr>\n",
       "    <tr>\n",
       "      <th>1</th>\n",
       "      <td>radius_mean</td>\n",
       "    </tr>\n",
       "    <tr>\n",
       "      <th>2</th>\n",
       "      <td>radius_sd_error</td>\n",
       "    </tr>\n",
       "    <tr>\n",
       "      <th>3</th>\n",
       "      <td>radius_worst</td>\n",
       "    </tr>\n",
       "    <tr>\n",
       "      <th>4</th>\n",
       "      <td>texture_mean</td>\n",
       "    </tr>\n",
       "  </tbody>\n",
       "</table>\n",
       "</div>"
      ],
      "text/plain": [
       "                ID\n",
       "0        diagnosis\n",
       "1      radius_mean\n",
       "2  radius_sd_error\n",
       "3     radius_worst\n",
       "4     texture_mean"
      ]
     },
     "execution_count": 4,
     "metadata": {},
     "output_type": "execute_result"
    }
   ],
   "source": [
    "headers.head()"
   ]
  },
  {
   "cell_type": "code",
   "execution_count": 5,
   "metadata": {},
   "outputs": [],
   "source": [
    "headers_list = ['id_number'] + [s[0] for s in headers.values]"
   ]
  },
  {
   "cell_type": "code",
   "execution_count": 6,
   "metadata": {},
   "outputs": [],
   "source": [
    "data = pd.read_csv('data/breast-cancer.csv',header=None, names=headers_list)"
   ]
  },
  {
   "cell_type": "code",
   "execution_count": 7,
   "metadata": {},
   "outputs": [
    {
     "data": {
      "text/html": [
       "<div>\n",
       "<style scoped>\n",
       "    .dataframe tbody tr th:only-of-type {\n",
       "        vertical-align: middle;\n",
       "    }\n",
       "\n",
       "    .dataframe tbody tr th {\n",
       "        vertical-align: top;\n",
       "    }\n",
       "\n",
       "    .dataframe thead th {\n",
       "        text-align: right;\n",
       "    }\n",
       "</style>\n",
       "<table border=\"1\" class=\"dataframe\">\n",
       "  <thead>\n",
       "    <tr style=\"text-align: right;\">\n",
       "      <th></th>\n",
       "      <th>id_number</th>\n",
       "      <th>diagnosis</th>\n",
       "      <th>radius_mean</th>\n",
       "      <th>radius_sd_error</th>\n",
       "      <th>radius_worst</th>\n",
       "      <th>texture_mean</th>\n",
       "      <th>texture_sd_error</th>\n",
       "      <th>texture_worst</th>\n",
       "      <th>perimeter_mean</th>\n",
       "      <th>perimeter_sd_error</th>\n",
       "      <th>...</th>\n",
       "      <th>concavity_worst</th>\n",
       "      <th>concave_points_mean</th>\n",
       "      <th>concave_points_sd_error</th>\n",
       "      <th>concave_points_worst</th>\n",
       "      <th>symmetry_mean</th>\n",
       "      <th>symmetry_sd_error</th>\n",
       "      <th>symmetry_worst</th>\n",
       "      <th>fractal_dimension_mean</th>\n",
       "      <th>fractal_dimension_sd_error</th>\n",
       "      <th>fractal_dimension_worst</th>\n",
       "    </tr>\n",
       "  </thead>\n",
       "  <tbody>\n",
       "    <tr>\n",
       "      <th>0</th>\n",
       "      <td>842302</td>\n",
       "      <td>M</td>\n",
       "      <td>17.99</td>\n",
       "      <td>10.38</td>\n",
       "      <td>122.80</td>\n",
       "      <td>1001.0</td>\n",
       "      <td>0.11840</td>\n",
       "      <td>0.27760</td>\n",
       "      <td>0.3001</td>\n",
       "      <td>0.14710</td>\n",
       "      <td>...</td>\n",
       "      <td>25.38</td>\n",
       "      <td>17.33</td>\n",
       "      <td>184.60</td>\n",
       "      <td>2019.0</td>\n",
       "      <td>0.1622</td>\n",
       "      <td>0.6656</td>\n",
       "      <td>0.7119</td>\n",
       "      <td>0.2654</td>\n",
       "      <td>0.4601</td>\n",
       "      <td>0.11890</td>\n",
       "    </tr>\n",
       "    <tr>\n",
       "      <th>1</th>\n",
       "      <td>842517</td>\n",
       "      <td>M</td>\n",
       "      <td>20.57</td>\n",
       "      <td>17.77</td>\n",
       "      <td>132.90</td>\n",
       "      <td>1326.0</td>\n",
       "      <td>0.08474</td>\n",
       "      <td>0.07864</td>\n",
       "      <td>0.0869</td>\n",
       "      <td>0.07017</td>\n",
       "      <td>...</td>\n",
       "      <td>24.99</td>\n",
       "      <td>23.41</td>\n",
       "      <td>158.80</td>\n",
       "      <td>1956.0</td>\n",
       "      <td>0.1238</td>\n",
       "      <td>0.1866</td>\n",
       "      <td>0.2416</td>\n",
       "      <td>0.1860</td>\n",
       "      <td>0.2750</td>\n",
       "      <td>0.08902</td>\n",
       "    </tr>\n",
       "    <tr>\n",
       "      <th>2</th>\n",
       "      <td>84300903</td>\n",
       "      <td>M</td>\n",
       "      <td>19.69</td>\n",
       "      <td>21.25</td>\n",
       "      <td>130.00</td>\n",
       "      <td>1203.0</td>\n",
       "      <td>0.10960</td>\n",
       "      <td>0.15990</td>\n",
       "      <td>0.1974</td>\n",
       "      <td>0.12790</td>\n",
       "      <td>...</td>\n",
       "      <td>23.57</td>\n",
       "      <td>25.53</td>\n",
       "      <td>152.50</td>\n",
       "      <td>1709.0</td>\n",
       "      <td>0.1444</td>\n",
       "      <td>0.4245</td>\n",
       "      <td>0.4504</td>\n",
       "      <td>0.2430</td>\n",
       "      <td>0.3613</td>\n",
       "      <td>0.08758</td>\n",
       "    </tr>\n",
       "    <tr>\n",
       "      <th>3</th>\n",
       "      <td>84348301</td>\n",
       "      <td>M</td>\n",
       "      <td>11.42</td>\n",
       "      <td>20.38</td>\n",
       "      <td>77.58</td>\n",
       "      <td>386.1</td>\n",
       "      <td>0.14250</td>\n",
       "      <td>0.28390</td>\n",
       "      <td>0.2414</td>\n",
       "      <td>0.10520</td>\n",
       "      <td>...</td>\n",
       "      <td>14.91</td>\n",
       "      <td>26.50</td>\n",
       "      <td>98.87</td>\n",
       "      <td>567.7</td>\n",
       "      <td>0.2098</td>\n",
       "      <td>0.8663</td>\n",
       "      <td>0.6869</td>\n",
       "      <td>0.2575</td>\n",
       "      <td>0.6638</td>\n",
       "      <td>0.17300</td>\n",
       "    </tr>\n",
       "    <tr>\n",
       "      <th>4</th>\n",
       "      <td>84358402</td>\n",
       "      <td>M</td>\n",
       "      <td>20.29</td>\n",
       "      <td>14.34</td>\n",
       "      <td>135.10</td>\n",
       "      <td>1297.0</td>\n",
       "      <td>0.10030</td>\n",
       "      <td>0.13280</td>\n",
       "      <td>0.1980</td>\n",
       "      <td>0.10430</td>\n",
       "      <td>...</td>\n",
       "      <td>22.54</td>\n",
       "      <td>16.67</td>\n",
       "      <td>152.20</td>\n",
       "      <td>1575.0</td>\n",
       "      <td>0.1374</td>\n",
       "      <td>0.2050</td>\n",
       "      <td>0.4000</td>\n",
       "      <td>0.1625</td>\n",
       "      <td>0.2364</td>\n",
       "      <td>0.07678</td>\n",
       "    </tr>\n",
       "  </tbody>\n",
       "</table>\n",
       "<p>5 rows × 32 columns</p>\n",
       "</div>"
      ],
      "text/plain": [
       "   id_number diagnosis  radius_mean  radius_sd_error  radius_worst  \\\n",
       "0     842302         M        17.99            10.38        122.80   \n",
       "1     842517         M        20.57            17.77        132.90   \n",
       "2   84300903         M        19.69            21.25        130.00   \n",
       "3   84348301         M        11.42            20.38         77.58   \n",
       "4   84358402         M        20.29            14.34        135.10   \n",
       "\n",
       "   texture_mean  texture_sd_error  texture_worst  perimeter_mean  \\\n",
       "0        1001.0           0.11840        0.27760          0.3001   \n",
       "1        1326.0           0.08474        0.07864          0.0869   \n",
       "2        1203.0           0.10960        0.15990          0.1974   \n",
       "3         386.1           0.14250        0.28390          0.2414   \n",
       "4        1297.0           0.10030        0.13280          0.1980   \n",
       "\n",
       "   perimeter_sd_error           ...             concavity_worst  \\\n",
       "0             0.14710           ...                       25.38   \n",
       "1             0.07017           ...                       24.99   \n",
       "2             0.12790           ...                       23.57   \n",
       "3             0.10520           ...                       14.91   \n",
       "4             0.10430           ...                       22.54   \n",
       "\n",
       "   concave_points_mean  concave_points_sd_error  concave_points_worst  \\\n",
       "0                17.33                   184.60                2019.0   \n",
       "1                23.41                   158.80                1956.0   \n",
       "2                25.53                   152.50                1709.0   \n",
       "3                26.50                    98.87                 567.7   \n",
       "4                16.67                   152.20                1575.0   \n",
       "\n",
       "   symmetry_mean  symmetry_sd_error  symmetry_worst  fractal_dimension_mean  \\\n",
       "0         0.1622             0.6656          0.7119                  0.2654   \n",
       "1         0.1238             0.1866          0.2416                  0.1860   \n",
       "2         0.1444             0.4245          0.4504                  0.2430   \n",
       "3         0.2098             0.8663          0.6869                  0.2575   \n",
       "4         0.1374             0.2050          0.4000                  0.1625   \n",
       "\n",
       "   fractal_dimension_sd_error  fractal_dimension_worst  \n",
       "0                      0.4601                  0.11890  \n",
       "1                      0.2750                  0.08902  \n",
       "2                      0.3613                  0.08758  \n",
       "3                      0.6638                  0.17300  \n",
       "4                      0.2364                  0.07678  \n",
       "\n",
       "[5 rows x 32 columns]"
      ]
     },
     "execution_count": 7,
     "metadata": {},
     "output_type": "execute_result"
    }
   ],
   "source": [
    "data.head()"
   ]
  },
  {
   "cell_type": "code",
   "execution_count": 8,
   "metadata": {},
   "outputs": [],
   "source": [
    "data = data.set_index('id_number')"
   ]
  },
  {
   "cell_type": "code",
   "execution_count": 9,
   "metadata": {},
   "outputs": [
    {
     "data": {
      "text/html": [
       "<div>\n",
       "<style scoped>\n",
       "    .dataframe tbody tr th:only-of-type {\n",
       "        vertical-align: middle;\n",
       "    }\n",
       "\n",
       "    .dataframe tbody tr th {\n",
       "        vertical-align: top;\n",
       "    }\n",
       "\n",
       "    .dataframe thead th {\n",
       "        text-align: right;\n",
       "    }\n",
       "</style>\n",
       "<table border=\"1\" class=\"dataframe\">\n",
       "  <thead>\n",
       "    <tr style=\"text-align: right;\">\n",
       "      <th></th>\n",
       "      <th>radius_mean</th>\n",
       "      <th>radius_sd_error</th>\n",
       "      <th>radius_worst</th>\n",
       "      <th>texture_mean</th>\n",
       "      <th>texture_sd_error</th>\n",
       "      <th>texture_worst</th>\n",
       "      <th>perimeter_mean</th>\n",
       "      <th>perimeter_sd_error</th>\n",
       "      <th>perimeter_worst</th>\n",
       "      <th>area_mean</th>\n",
       "      <th>...</th>\n",
       "      <th>concavity_worst</th>\n",
       "      <th>concave_points_mean</th>\n",
       "      <th>concave_points_sd_error</th>\n",
       "      <th>concave_points_worst</th>\n",
       "      <th>symmetry_mean</th>\n",
       "      <th>symmetry_sd_error</th>\n",
       "      <th>symmetry_worst</th>\n",
       "      <th>fractal_dimension_mean</th>\n",
       "      <th>fractal_dimension_sd_error</th>\n",
       "      <th>fractal_dimension_worst</th>\n",
       "    </tr>\n",
       "  </thead>\n",
       "  <tbody>\n",
       "    <tr>\n",
       "      <th>count</th>\n",
       "      <td>569.000000</td>\n",
       "      <td>569.000000</td>\n",
       "      <td>569.000000</td>\n",
       "      <td>569.000000</td>\n",
       "      <td>569.000000</td>\n",
       "      <td>569.000000</td>\n",
       "      <td>569.000000</td>\n",
       "      <td>569.000000</td>\n",
       "      <td>569.000000</td>\n",
       "      <td>569.000000</td>\n",
       "      <td>...</td>\n",
       "      <td>569.000000</td>\n",
       "      <td>569.000000</td>\n",
       "      <td>569.000000</td>\n",
       "      <td>569.000000</td>\n",
       "      <td>569.000000</td>\n",
       "      <td>569.000000</td>\n",
       "      <td>569.000000</td>\n",
       "      <td>569.000000</td>\n",
       "      <td>569.000000</td>\n",
       "      <td>569.000000</td>\n",
       "    </tr>\n",
       "    <tr>\n",
       "      <th>mean</th>\n",
       "      <td>14.127292</td>\n",
       "      <td>19.289649</td>\n",
       "      <td>91.969033</td>\n",
       "      <td>654.889104</td>\n",
       "      <td>0.096360</td>\n",
       "      <td>0.104341</td>\n",
       "      <td>0.088799</td>\n",
       "      <td>0.048919</td>\n",
       "      <td>0.181162</td>\n",
       "      <td>0.062798</td>\n",
       "      <td>...</td>\n",
       "      <td>16.269190</td>\n",
       "      <td>25.677223</td>\n",
       "      <td>107.261213</td>\n",
       "      <td>880.583128</td>\n",
       "      <td>0.132369</td>\n",
       "      <td>0.254265</td>\n",
       "      <td>0.272188</td>\n",
       "      <td>0.114606</td>\n",
       "      <td>0.290076</td>\n",
       "      <td>0.083946</td>\n",
       "    </tr>\n",
       "    <tr>\n",
       "      <th>std</th>\n",
       "      <td>3.524049</td>\n",
       "      <td>4.301036</td>\n",
       "      <td>24.298981</td>\n",
       "      <td>351.914129</td>\n",
       "      <td>0.014064</td>\n",
       "      <td>0.052813</td>\n",
       "      <td>0.079720</td>\n",
       "      <td>0.038803</td>\n",
       "      <td>0.027414</td>\n",
       "      <td>0.007060</td>\n",
       "      <td>...</td>\n",
       "      <td>4.833242</td>\n",
       "      <td>6.146258</td>\n",
       "      <td>33.602542</td>\n",
       "      <td>569.356993</td>\n",
       "      <td>0.022832</td>\n",
       "      <td>0.157336</td>\n",
       "      <td>0.208624</td>\n",
       "      <td>0.065732</td>\n",
       "      <td>0.061867</td>\n",
       "      <td>0.018061</td>\n",
       "    </tr>\n",
       "    <tr>\n",
       "      <th>min</th>\n",
       "      <td>6.981000</td>\n",
       "      <td>9.710000</td>\n",
       "      <td>43.790000</td>\n",
       "      <td>143.500000</td>\n",
       "      <td>0.052630</td>\n",
       "      <td>0.019380</td>\n",
       "      <td>0.000000</td>\n",
       "      <td>0.000000</td>\n",
       "      <td>0.106000</td>\n",
       "      <td>0.049960</td>\n",
       "      <td>...</td>\n",
       "      <td>7.930000</td>\n",
       "      <td>12.020000</td>\n",
       "      <td>50.410000</td>\n",
       "      <td>185.200000</td>\n",
       "      <td>0.071170</td>\n",
       "      <td>0.027290</td>\n",
       "      <td>0.000000</td>\n",
       "      <td>0.000000</td>\n",
       "      <td>0.156500</td>\n",
       "      <td>0.055040</td>\n",
       "    </tr>\n",
       "    <tr>\n",
       "      <th>25%</th>\n",
       "      <td>11.700000</td>\n",
       "      <td>16.170000</td>\n",
       "      <td>75.170000</td>\n",
       "      <td>420.300000</td>\n",
       "      <td>0.086370</td>\n",
       "      <td>0.064920</td>\n",
       "      <td>0.029560</td>\n",
       "      <td>0.020310</td>\n",
       "      <td>0.161900</td>\n",
       "      <td>0.057700</td>\n",
       "      <td>...</td>\n",
       "      <td>13.010000</td>\n",
       "      <td>21.080000</td>\n",
       "      <td>84.110000</td>\n",
       "      <td>515.300000</td>\n",
       "      <td>0.116600</td>\n",
       "      <td>0.147200</td>\n",
       "      <td>0.114500</td>\n",
       "      <td>0.064930</td>\n",
       "      <td>0.250400</td>\n",
       "      <td>0.071460</td>\n",
       "    </tr>\n",
       "    <tr>\n",
       "      <th>50%</th>\n",
       "      <td>13.370000</td>\n",
       "      <td>18.840000</td>\n",
       "      <td>86.240000</td>\n",
       "      <td>551.100000</td>\n",
       "      <td>0.095870</td>\n",
       "      <td>0.092630</td>\n",
       "      <td>0.061540</td>\n",
       "      <td>0.033500</td>\n",
       "      <td>0.179200</td>\n",
       "      <td>0.061540</td>\n",
       "      <td>...</td>\n",
       "      <td>14.970000</td>\n",
       "      <td>25.410000</td>\n",
       "      <td>97.660000</td>\n",
       "      <td>686.500000</td>\n",
       "      <td>0.131300</td>\n",
       "      <td>0.211900</td>\n",
       "      <td>0.226700</td>\n",
       "      <td>0.099930</td>\n",
       "      <td>0.282200</td>\n",
       "      <td>0.080040</td>\n",
       "    </tr>\n",
       "    <tr>\n",
       "      <th>75%</th>\n",
       "      <td>15.780000</td>\n",
       "      <td>21.800000</td>\n",
       "      <td>104.100000</td>\n",
       "      <td>782.700000</td>\n",
       "      <td>0.105300</td>\n",
       "      <td>0.130400</td>\n",
       "      <td>0.130700</td>\n",
       "      <td>0.074000</td>\n",
       "      <td>0.195700</td>\n",
       "      <td>0.066120</td>\n",
       "      <td>...</td>\n",
       "      <td>18.790000</td>\n",
       "      <td>29.720000</td>\n",
       "      <td>125.400000</td>\n",
       "      <td>1084.000000</td>\n",
       "      <td>0.146000</td>\n",
       "      <td>0.339100</td>\n",
       "      <td>0.382900</td>\n",
       "      <td>0.161400</td>\n",
       "      <td>0.317900</td>\n",
       "      <td>0.092080</td>\n",
       "    </tr>\n",
       "    <tr>\n",
       "      <th>max</th>\n",
       "      <td>28.110000</td>\n",
       "      <td>39.280000</td>\n",
       "      <td>188.500000</td>\n",
       "      <td>2501.000000</td>\n",
       "      <td>0.163400</td>\n",
       "      <td>0.345400</td>\n",
       "      <td>0.426800</td>\n",
       "      <td>0.201200</td>\n",
       "      <td>0.304000</td>\n",
       "      <td>0.097440</td>\n",
       "      <td>...</td>\n",
       "      <td>36.040000</td>\n",
       "      <td>49.540000</td>\n",
       "      <td>251.200000</td>\n",
       "      <td>4254.000000</td>\n",
       "      <td>0.222600</td>\n",
       "      <td>1.058000</td>\n",
       "      <td>1.252000</td>\n",
       "      <td>0.291000</td>\n",
       "      <td>0.663800</td>\n",
       "      <td>0.207500</td>\n",
       "    </tr>\n",
       "  </tbody>\n",
       "</table>\n",
       "<p>8 rows × 30 columns</p>\n",
       "</div>"
      ],
      "text/plain": [
       "       radius_mean  radius_sd_error  radius_worst  texture_mean  \\\n",
       "count   569.000000       569.000000    569.000000    569.000000   \n",
       "mean     14.127292        19.289649     91.969033    654.889104   \n",
       "std       3.524049         4.301036     24.298981    351.914129   \n",
       "min       6.981000         9.710000     43.790000    143.500000   \n",
       "25%      11.700000        16.170000     75.170000    420.300000   \n",
       "50%      13.370000        18.840000     86.240000    551.100000   \n",
       "75%      15.780000        21.800000    104.100000    782.700000   \n",
       "max      28.110000        39.280000    188.500000   2501.000000   \n",
       "\n",
       "       texture_sd_error  texture_worst  perimeter_mean  perimeter_sd_error  \\\n",
       "count        569.000000     569.000000      569.000000          569.000000   \n",
       "mean           0.096360       0.104341        0.088799            0.048919   \n",
       "std            0.014064       0.052813        0.079720            0.038803   \n",
       "min            0.052630       0.019380        0.000000            0.000000   \n",
       "25%            0.086370       0.064920        0.029560            0.020310   \n",
       "50%            0.095870       0.092630        0.061540            0.033500   \n",
       "75%            0.105300       0.130400        0.130700            0.074000   \n",
       "max            0.163400       0.345400        0.426800            0.201200   \n",
       "\n",
       "       perimeter_worst   area_mean           ...             concavity_worst  \\\n",
       "count       569.000000  569.000000           ...                  569.000000   \n",
       "mean          0.181162    0.062798           ...                   16.269190   \n",
       "std           0.027414    0.007060           ...                    4.833242   \n",
       "min           0.106000    0.049960           ...                    7.930000   \n",
       "25%           0.161900    0.057700           ...                   13.010000   \n",
       "50%           0.179200    0.061540           ...                   14.970000   \n",
       "75%           0.195700    0.066120           ...                   18.790000   \n",
       "max           0.304000    0.097440           ...                   36.040000   \n",
       "\n",
       "       concave_points_mean  concave_points_sd_error  concave_points_worst  \\\n",
       "count           569.000000               569.000000            569.000000   \n",
       "mean             25.677223               107.261213            880.583128   \n",
       "std               6.146258                33.602542            569.356993   \n",
       "min              12.020000                50.410000            185.200000   \n",
       "25%              21.080000                84.110000            515.300000   \n",
       "50%              25.410000                97.660000            686.500000   \n",
       "75%              29.720000               125.400000           1084.000000   \n",
       "max              49.540000               251.200000           4254.000000   \n",
       "\n",
       "       symmetry_mean  symmetry_sd_error  symmetry_worst  \\\n",
       "count     569.000000         569.000000      569.000000   \n",
       "mean        0.132369           0.254265        0.272188   \n",
       "std         0.022832           0.157336        0.208624   \n",
       "min         0.071170           0.027290        0.000000   \n",
       "25%         0.116600           0.147200        0.114500   \n",
       "50%         0.131300           0.211900        0.226700   \n",
       "75%         0.146000           0.339100        0.382900   \n",
       "max         0.222600           1.058000        1.252000   \n",
       "\n",
       "       fractal_dimension_mean  fractal_dimension_sd_error  \\\n",
       "count              569.000000                  569.000000   \n",
       "mean                 0.114606                    0.290076   \n",
       "std                  0.065732                    0.061867   \n",
       "min                  0.000000                    0.156500   \n",
       "25%                  0.064930                    0.250400   \n",
       "50%                  0.099930                    0.282200   \n",
       "75%                  0.161400                    0.317900   \n",
       "max                  0.291000                    0.663800   \n",
       "\n",
       "       fractal_dimension_worst  \n",
       "count               569.000000  \n",
       "mean                  0.083946  \n",
       "std                   0.018061  \n",
       "min                   0.055040  \n",
       "25%                   0.071460  \n",
       "50%                   0.080040  \n",
       "75%                   0.092080  \n",
       "max                   0.207500  \n",
       "\n",
       "[8 rows x 30 columns]"
      ]
     },
     "execution_count": 9,
     "metadata": {},
     "output_type": "execute_result"
    }
   ],
   "source": [
    "data.describe()"
   ]
  },
  {
   "cell_type": "code",
   "execution_count": 10,
   "metadata": {},
   "outputs": [],
   "source": [
    "\n",
    "data_ex_diagnosis = data.loc[:,data.columns != 'diagnosis']\n",
    "data_diagnosis = data['diagnosis']"
   ]
  },
  {
   "cell_type": "code",
   "execution_count": 11,
   "metadata": {},
   "outputs": [],
   "source": [
    "transformer = MinMaxScaler()\n",
    "transformed = transformer.fit_transform(data_ex_diagnosis)"
   ]
  },
  {
   "cell_type": "code",
   "execution_count": 12,
   "metadata": {},
   "outputs": [],
   "source": [
    "transformed_df = pd.DataFrame(transformed, index=data.index, columns=[s[0] for s in headers.values[1:]])"
   ]
  },
  {
   "cell_type": "code",
   "execution_count": 13,
   "metadata": {},
   "outputs": [
    {
     "data": {
      "text/html": [
       "<div>\n",
       "<style scoped>\n",
       "    .dataframe tbody tr th:only-of-type {\n",
       "        vertical-align: middle;\n",
       "    }\n",
       "\n",
       "    .dataframe tbody tr th {\n",
       "        vertical-align: top;\n",
       "    }\n",
       "\n",
       "    .dataframe thead th {\n",
       "        text-align: right;\n",
       "    }\n",
       "</style>\n",
       "<table border=\"1\" class=\"dataframe\">\n",
       "  <thead>\n",
       "    <tr style=\"text-align: right;\">\n",
       "      <th></th>\n",
       "      <th>radius_mean</th>\n",
       "      <th>radius_sd_error</th>\n",
       "      <th>radius_worst</th>\n",
       "      <th>texture_mean</th>\n",
       "      <th>texture_sd_error</th>\n",
       "      <th>texture_worst</th>\n",
       "      <th>perimeter_mean</th>\n",
       "      <th>perimeter_sd_error</th>\n",
       "      <th>perimeter_worst</th>\n",
       "      <th>area_mean</th>\n",
       "      <th>...</th>\n",
       "      <th>concavity_worst</th>\n",
       "      <th>concave_points_mean</th>\n",
       "      <th>concave_points_sd_error</th>\n",
       "      <th>concave_points_worst</th>\n",
       "      <th>symmetry_mean</th>\n",
       "      <th>symmetry_sd_error</th>\n",
       "      <th>symmetry_worst</th>\n",
       "      <th>fractal_dimension_mean</th>\n",
       "      <th>fractal_dimension_sd_error</th>\n",
       "      <th>fractal_dimension_worst</th>\n",
       "    </tr>\n",
       "  </thead>\n",
       "  <tbody>\n",
       "    <tr>\n",
       "      <th>count</th>\n",
       "      <td>569.000000</td>\n",
       "      <td>569.000000</td>\n",
       "      <td>569.000000</td>\n",
       "      <td>569.000000</td>\n",
       "      <td>569.000000</td>\n",
       "      <td>569.000000</td>\n",
       "      <td>569.000000</td>\n",
       "      <td>569.000000</td>\n",
       "      <td>569.000000</td>\n",
       "      <td>569.000000</td>\n",
       "      <td>...</td>\n",
       "      <td>569.000000</td>\n",
       "      <td>569.000000</td>\n",
       "      <td>569.000000</td>\n",
       "      <td>569.000000</td>\n",
       "      <td>569.000000</td>\n",
       "      <td>569.000000</td>\n",
       "      <td>569.000000</td>\n",
       "      <td>569.000000</td>\n",
       "      <td>569.000000</td>\n",
       "      <td>569.000000</td>\n",
       "    </tr>\n",
       "    <tr>\n",
       "      <th>mean</th>\n",
       "      <td>0.338222</td>\n",
       "      <td>0.323965</td>\n",
       "      <td>0.332935</td>\n",
       "      <td>0.216920</td>\n",
       "      <td>0.394785</td>\n",
       "      <td>0.260601</td>\n",
       "      <td>0.208058</td>\n",
       "      <td>0.243137</td>\n",
       "      <td>0.379605</td>\n",
       "      <td>0.270379</td>\n",
       "      <td>...</td>\n",
       "      <td>0.296663</td>\n",
       "      <td>0.363998</td>\n",
       "      <td>0.283138</td>\n",
       "      <td>0.170906</td>\n",
       "      <td>0.404138</td>\n",
       "      <td>0.220212</td>\n",
       "      <td>0.217403</td>\n",
       "      <td>0.393836</td>\n",
       "      <td>0.263307</td>\n",
       "      <td>0.189596</td>\n",
       "    </tr>\n",
       "    <tr>\n",
       "      <th>std</th>\n",
       "      <td>0.166787</td>\n",
       "      <td>0.145453</td>\n",
       "      <td>0.167915</td>\n",
       "      <td>0.149274</td>\n",
       "      <td>0.126967</td>\n",
       "      <td>0.161992</td>\n",
       "      <td>0.186785</td>\n",
       "      <td>0.192857</td>\n",
       "      <td>0.138456</td>\n",
       "      <td>0.148702</td>\n",
       "      <td>...</td>\n",
       "      <td>0.171940</td>\n",
       "      <td>0.163813</td>\n",
       "      <td>0.167352</td>\n",
       "      <td>0.139932</td>\n",
       "      <td>0.150779</td>\n",
       "      <td>0.152649</td>\n",
       "      <td>0.166633</td>\n",
       "      <td>0.225884</td>\n",
       "      <td>0.121954</td>\n",
       "      <td>0.118466</td>\n",
       "    </tr>\n",
       "    <tr>\n",
       "      <th>min</th>\n",
       "      <td>0.000000</td>\n",
       "      <td>0.000000</td>\n",
       "      <td>0.000000</td>\n",
       "      <td>0.000000</td>\n",
       "      <td>0.000000</td>\n",
       "      <td>0.000000</td>\n",
       "      <td>0.000000</td>\n",
       "      <td>0.000000</td>\n",
       "      <td>0.000000</td>\n",
       "      <td>0.000000</td>\n",
       "      <td>...</td>\n",
       "      <td>0.000000</td>\n",
       "      <td>0.000000</td>\n",
       "      <td>0.000000</td>\n",
       "      <td>0.000000</td>\n",
       "      <td>0.000000</td>\n",
       "      <td>0.000000</td>\n",
       "      <td>0.000000</td>\n",
       "      <td>0.000000</td>\n",
       "      <td>0.000000</td>\n",
       "      <td>0.000000</td>\n",
       "    </tr>\n",
       "    <tr>\n",
       "      <th>25%</th>\n",
       "      <td>0.223342</td>\n",
       "      <td>0.218465</td>\n",
       "      <td>0.216847</td>\n",
       "      <td>0.117413</td>\n",
       "      <td>0.304595</td>\n",
       "      <td>0.139685</td>\n",
       "      <td>0.069260</td>\n",
       "      <td>0.100944</td>\n",
       "      <td>0.282323</td>\n",
       "      <td>0.163016</td>\n",
       "      <td>...</td>\n",
       "      <td>0.180719</td>\n",
       "      <td>0.241471</td>\n",
       "      <td>0.167837</td>\n",
       "      <td>0.081130</td>\n",
       "      <td>0.300007</td>\n",
       "      <td>0.116337</td>\n",
       "      <td>0.091454</td>\n",
       "      <td>0.223127</td>\n",
       "      <td>0.185098</td>\n",
       "      <td>0.107700</td>\n",
       "    </tr>\n",
       "    <tr>\n",
       "      <th>50%</th>\n",
       "      <td>0.302381</td>\n",
       "      <td>0.308759</td>\n",
       "      <td>0.293345</td>\n",
       "      <td>0.172895</td>\n",
       "      <td>0.390358</td>\n",
       "      <td>0.224679</td>\n",
       "      <td>0.144189</td>\n",
       "      <td>0.166501</td>\n",
       "      <td>0.369697</td>\n",
       "      <td>0.243892</td>\n",
       "      <td>...</td>\n",
       "      <td>0.250445</td>\n",
       "      <td>0.356876</td>\n",
       "      <td>0.235320</td>\n",
       "      <td>0.123206</td>\n",
       "      <td>0.397081</td>\n",
       "      <td>0.179110</td>\n",
       "      <td>0.181070</td>\n",
       "      <td>0.343402</td>\n",
       "      <td>0.247782</td>\n",
       "      <td>0.163977</td>\n",
       "    </tr>\n",
       "    <tr>\n",
       "      <th>75%</th>\n",
       "      <td>0.416442</td>\n",
       "      <td>0.408860</td>\n",
       "      <td>0.416765</td>\n",
       "      <td>0.271135</td>\n",
       "      <td>0.475490</td>\n",
       "      <td>0.340531</td>\n",
       "      <td>0.306232</td>\n",
       "      <td>0.367793</td>\n",
       "      <td>0.453030</td>\n",
       "      <td>0.340354</td>\n",
       "      <td>...</td>\n",
       "      <td>0.386339</td>\n",
       "      <td>0.471748</td>\n",
       "      <td>0.373475</td>\n",
       "      <td>0.220901</td>\n",
       "      <td>0.494156</td>\n",
       "      <td>0.302520</td>\n",
       "      <td>0.305831</td>\n",
       "      <td>0.554639</td>\n",
       "      <td>0.318155</td>\n",
       "      <td>0.242949</td>\n",
       "    </tr>\n",
       "    <tr>\n",
       "      <th>max</th>\n",
       "      <td>1.000000</td>\n",
       "      <td>1.000000</td>\n",
       "      <td>1.000000</td>\n",
       "      <td>1.000000</td>\n",
       "      <td>1.000000</td>\n",
       "      <td>1.000000</td>\n",
       "      <td>1.000000</td>\n",
       "      <td>1.000000</td>\n",
       "      <td>1.000000</td>\n",
       "      <td>1.000000</td>\n",
       "      <td>...</td>\n",
       "      <td>1.000000</td>\n",
       "      <td>1.000000</td>\n",
       "      <td>1.000000</td>\n",
       "      <td>1.000000</td>\n",
       "      <td>1.000000</td>\n",
       "      <td>1.000000</td>\n",
       "      <td>1.000000</td>\n",
       "      <td>1.000000</td>\n",
       "      <td>1.000000</td>\n",
       "      <td>1.000000</td>\n",
       "    </tr>\n",
       "  </tbody>\n",
       "</table>\n",
       "<p>8 rows × 30 columns</p>\n",
       "</div>"
      ],
      "text/plain": [
       "       radius_mean  radius_sd_error  radius_worst  texture_mean  \\\n",
       "count   569.000000       569.000000    569.000000    569.000000   \n",
       "mean      0.338222         0.323965      0.332935      0.216920   \n",
       "std       0.166787         0.145453      0.167915      0.149274   \n",
       "min       0.000000         0.000000      0.000000      0.000000   \n",
       "25%       0.223342         0.218465      0.216847      0.117413   \n",
       "50%       0.302381         0.308759      0.293345      0.172895   \n",
       "75%       0.416442         0.408860      0.416765      0.271135   \n",
       "max       1.000000         1.000000      1.000000      1.000000   \n",
       "\n",
       "       texture_sd_error  texture_worst  perimeter_mean  perimeter_sd_error  \\\n",
       "count        569.000000     569.000000      569.000000          569.000000   \n",
       "mean           0.394785       0.260601        0.208058            0.243137   \n",
       "std            0.126967       0.161992        0.186785            0.192857   \n",
       "min            0.000000       0.000000        0.000000            0.000000   \n",
       "25%            0.304595       0.139685        0.069260            0.100944   \n",
       "50%            0.390358       0.224679        0.144189            0.166501   \n",
       "75%            0.475490       0.340531        0.306232            0.367793   \n",
       "max            1.000000       1.000000        1.000000            1.000000   \n",
       "\n",
       "       perimeter_worst   area_mean           ...             concavity_worst  \\\n",
       "count       569.000000  569.000000           ...                  569.000000   \n",
       "mean          0.379605    0.270379           ...                    0.296663   \n",
       "std           0.138456    0.148702           ...                    0.171940   \n",
       "min           0.000000    0.000000           ...                    0.000000   \n",
       "25%           0.282323    0.163016           ...                    0.180719   \n",
       "50%           0.369697    0.243892           ...                    0.250445   \n",
       "75%           0.453030    0.340354           ...                    0.386339   \n",
       "max           1.000000    1.000000           ...                    1.000000   \n",
       "\n",
       "       concave_points_mean  concave_points_sd_error  concave_points_worst  \\\n",
       "count           569.000000               569.000000            569.000000   \n",
       "mean              0.363998                 0.283138              0.170906   \n",
       "std               0.163813                 0.167352              0.139932   \n",
       "min               0.000000                 0.000000              0.000000   \n",
       "25%               0.241471                 0.167837              0.081130   \n",
       "50%               0.356876                 0.235320              0.123206   \n",
       "75%               0.471748                 0.373475              0.220901   \n",
       "max               1.000000                 1.000000              1.000000   \n",
       "\n",
       "       symmetry_mean  symmetry_sd_error  symmetry_worst  \\\n",
       "count     569.000000         569.000000      569.000000   \n",
       "mean        0.404138           0.220212        0.217403   \n",
       "std         0.150779           0.152649        0.166633   \n",
       "min         0.000000           0.000000        0.000000   \n",
       "25%         0.300007           0.116337        0.091454   \n",
       "50%         0.397081           0.179110        0.181070   \n",
       "75%         0.494156           0.302520        0.305831   \n",
       "max         1.000000           1.000000        1.000000   \n",
       "\n",
       "       fractal_dimension_mean  fractal_dimension_sd_error  \\\n",
       "count              569.000000                  569.000000   \n",
       "mean                 0.393836                    0.263307   \n",
       "std                  0.225884                    0.121954   \n",
       "min                  0.000000                    0.000000   \n",
       "25%                  0.223127                    0.185098   \n",
       "50%                  0.343402                    0.247782   \n",
       "75%                  0.554639                    0.318155   \n",
       "max                  1.000000                    1.000000   \n",
       "\n",
       "       fractal_dimension_worst  \n",
       "count               569.000000  \n",
       "mean                  0.189596  \n",
       "std                   0.118466  \n",
       "min                   0.000000  \n",
       "25%                   0.107700  \n",
       "50%                   0.163977  \n",
       "75%                   0.242949  \n",
       "max                   1.000000  \n",
       "\n",
       "[8 rows x 30 columns]"
      ]
     },
     "execution_count": 13,
     "metadata": {},
     "output_type": "execute_result"
    }
   ],
   "source": [
    "transformed_df.describe()"
   ]
  },
  {
   "cell_type": "code",
   "execution_count": 14,
   "metadata": {},
   "outputs": [],
   "source": [
    "transformed_df['diagnosis'] = data['diagnosis']"
   ]
  },
  {
   "cell_type": "markdown",
   "metadata": {},
   "source": [
    "#### Mean smoothness factor by diagnosis"
   ]
  },
  {
   "cell_type": "code",
   "execution_count": 15,
   "metadata": {},
   "outputs": [
    {
     "data": {
      "text/plain": [
       "diagnosis\n",
       "B    0.058584\n",
       "M    0.168069\n",
       "Name: smoothness_mean, dtype: float64"
      ]
     },
     "execution_count": 15,
     "metadata": {},
     "output_type": "execute_result"
    }
   ],
   "source": [
    "transformed_df.groupby('diagnosis').mean()['smoothness_mean']"
   ]
  },
  {
   "cell_type": "markdown",
   "metadata": {},
   "source": [
    "#### Median smoothness factor by diagnosis"
   ]
  },
  {
   "cell_type": "code",
   "execution_count": 16,
   "metadata": {},
   "outputs": [
    {
     "data": {
      "text/plain": [
       "diagnosis\n",
       "B    0.051548\n",
       "M    0.137704\n",
       "Name: smoothness_mean, dtype: float64"
      ]
     },
     "execution_count": 16,
     "metadata": {},
     "output_type": "execute_result"
    }
   ],
   "source": [
    "transformed_df.groupby('diagnosis').median()['smoothness_mean']"
   ]
  },
  {
   "cell_type": "markdown",
   "metadata": {},
   "source": [
    "#### Mean compactness factor by diagnosis"
   ]
  },
  {
   "cell_type": "code",
   "execution_count": 17,
   "metadata": {},
   "outputs": [
    {
     "data": {
      "text/plain": [
       "diagnosis\n",
       "B    0.144097\n",
       "M    0.225532\n",
       "Name: compactness_mean, dtype: float64"
      ]
     },
     "execution_count": 17,
     "metadata": {},
     "output_type": "execute_result"
    }
   ],
   "source": [
    "transformed_df.groupby('diagnosis').mean()['compactness_mean']"
   ]
  },
  {
   "cell_type": "markdown",
   "metadata": {},
   "source": [
    "#### Median compactness by diagnosis "
   ]
  },
  {
   "cell_type": "code",
   "execution_count": 18,
   "metadata": {},
   "outputs": [
    {
     "data": {
      "text/plain": [
       "diagnosis\n",
       "B    0.105582\n",
       "M    0.197810\n",
       "Name: compactness_mean, dtype: float64"
      ]
     },
     "execution_count": 18,
     "metadata": {},
     "output_type": "execute_result"
    }
   ],
   "source": [
    "transformed_df.groupby('diagnosis').median()['compactness_mean']"
   ]
  },
  {
   "cell_type": "markdown",
   "metadata": {},
   "source": [
    "### Let's do a t-test to see if they come from different populations "
   ]
  },
  {
   "cell_type": "code",
   "execution_count": 19,
   "metadata": {},
   "outputs": [
    {
     "data": {
      "text/plain": [
       "-15.934158019257904"
      ]
     },
     "execution_count": 19,
     "metadata": {},
     "output_type": "execute_result"
    }
   ],
   "source": [
    "B_smoothness = transformed_df.loc[transformed_df['diagnosis'] == 'B'].smoothness_mean\n",
    "M_smoothness = transformed_df.loc[transformed_df['diagnosis'] == 'M'].smoothness_mean\n",
    "t2, p2 = stats.ttest_ind(B_smoothness,M_smoothness)\n",
    "t2"
   ]
  },
  {
   "cell_type": "markdown",
   "metadata": {},
   "source": [
    "### Our p value is quite low, so we can reject the null hypothesis "
   ]
  },
  {
   "cell_type": "code",
   "execution_count": 20,
   "metadata": {},
   "outputs": [
    {
     "data": {
      "text/plain": [
       "1.651905175849735e-47"
      ]
     },
     "execution_count": 20,
     "metadata": {},
     "output_type": "execute_result"
    }
   ],
   "source": [
    "p2"
   ]
  },
  {
   "cell_type": "markdown",
   "metadata": {},
   "source": [
    "### Let's do a t-test on our compactness to see if they come from different populations "
   ]
  },
  {
   "cell_type": "code",
   "execution_count": 21,
   "metadata": {},
   "outputs": [],
   "source": [
    "B_compactness = transformed_df.loc[transformed_df['diagnosis'] == 'B'].compactness_mean\n",
    "M_compactness = transformed_df.loc[transformed_df['diagnosis'] == 'M'].compactness_mean\n",
    "t2, p2 = stats.ttest_ind(B_compactness,M_compactness)\n"
   ]
  },
  {
   "cell_type": "markdown",
   "metadata": {},
   "source": [
    "### Our p value is quite low, so we can reject the null hypothesis "
   ]
  },
  {
   "cell_type": "code",
   "execution_count": 22,
   "metadata": {},
   "outputs": [
    {
     "data": {
      "text/plain": [
       "9.975994654074946e-13"
      ]
     },
     "execution_count": 22,
     "metadata": {},
     "output_type": "execute_result"
    }
   ],
   "source": [
    "p2"
   ]
  },
  {
   "cell_type": "code",
   "execution_count": 23,
   "metadata": {},
   "outputs": [],
   "source": [
    "def bootstrap(data, replace=True, n_samples=len(data)):\n",
    "    '''\n",
    "    Generates bootstrapped dataset using initial dataset with replacement\n",
    "    \n",
    "    \n",
    "    Parameters\n",
    "    ==========\n",
    "    data: pd.DataFrame()\n",
    "    replace: bool\n",
    "    n_samples: int\n",
    "    \n",
    "    Returns\n",
    "    =======\n",
    "    pd.DataFrame of shape n_samples x cols of data\n",
    "    \n",
    "    '''\n",
    "    from sklearn.utils import resample\n",
    "    \n",
    "    \n",
    "    return resample(transformed_df, replace=replace, n_samples=n_samples)\n",
    "    "
   ]
  },
  {
   "cell_type": "markdown",
   "metadata": {},
   "source": [
    "#### We can see that we are getting different samples from our bootstrap since we have different means"
   ]
  },
  {
   "cell_type": "code",
   "execution_count": 24,
   "metadata": {},
   "outputs": [
    {
     "data": {
      "text/plain": [
       "0.3329052990330304"
      ]
     },
     "execution_count": 24,
     "metadata": {},
     "output_type": "execute_result"
    }
   ],
   "source": [
    "bts1 = bootstrap(transformed_df)\n",
    "bts1.mean()[0]"
   ]
  },
  {
   "cell_type": "code",
   "execution_count": 25,
   "metadata": {},
   "outputs": [
    {
     "data": {
      "text/plain": [
       "0.3367501217102972"
      ]
     },
     "execution_count": 25,
     "metadata": {},
     "output_type": "execute_result"
    }
   ],
   "source": [
    "bts2 = bootstrap(transformed_df)\n",
    "bts2.mean()[0]"
   ]
  },
  {
   "cell_type": "markdown",
   "metadata": {},
   "source": [
    "#### Let's do some EDA on our data"
   ]
  },
  {
   "cell_type": "code",
   "execution_count": 26,
   "metadata": {},
   "outputs": [],
   "source": [
    "data['radius_bin'] = pd.cut(data['radius_mean'], 10)"
   ]
  },
  {
   "cell_type": "code",
   "execution_count": 27,
   "metadata": {},
   "outputs": [
    {
     "data": {
      "text/plain": [
       "radius_bin        diagnosis\n",
       "(6.96, 9.094]     B             19\n",
       "(9.094, 11.207]   B             77\n",
       "                  M              2\n",
       "(11.207, 13.32]   B            170\n",
       "                  M             15\n",
       "(13.32, 15.433]   B             83\n",
       "                  M             46\n",
       "(15.433, 17.545]  B              7\n",
       "                  M             48\n",
       "(17.545, 19.658]  B              1\n",
       "                  M             49\n",
       "(19.658, 21.771]  M             38\n",
       "(21.771, 23.884]  M              7\n",
       "(23.884, 25.997]  M              4\n",
       "(25.997, 28.11]   M              3\n",
       "dtype: int64"
      ]
     },
     "execution_count": 27,
     "metadata": {},
     "output_type": "execute_result"
    }
   ],
   "source": [
    "data.groupby(['radius_bin','diagnosis']).size()"
   ]
  },
  {
   "cell_type": "code",
   "execution_count": 28,
   "metadata": {},
   "outputs": [],
   "source": [
    "B = data.loc[data['diagnosis'] == 'B']\n",
    "M = data.loc[data['diagnosis'] == 'M']\n",
    "B_radius = B.groupby('radius_bin').size()\n",
    "M_radius = M.groupby('radius_bin').size()"
   ]
  },
  {
   "cell_type": "markdown",
   "metadata": {},
   "source": [
    "#### We can see that Benign and Malignant tumors have different distributions for mean radius"
   ]
  },
  {
   "cell_type": "code",
   "execution_count": 29,
   "metadata": {},
   "outputs": [
    {
     "data": {
      "image/png": "[encoded data removed]",
      "text/plain": [
       "<matplotlib.figure.Figure at 0x1050d2a20>"
      ]
     },
     "metadata": {},
     "output_type": "display_data"
    }
   ],
   "source": [
    "categories = data['radius_bin'].cat.categories\n",
    "ind = np.array([x for x, _ in enumerate(categories)])\n",
    "width = 0.35       \n",
    "plt.bar(ind, B_radius, width, label='Benign')\n",
    "plt.bar(ind + width, M_radius, width,\n",
    "    label='Malignant')\n",
    "\n",
    "plt.xticks(ind + width / 2, categories)\n",
    "plt.legend(loc='best')\n",
    "plt.xticks(rotation = 90)\n",
    "plt.show()"
   ]
  },
  {
   "cell_type": "markdown",
   "metadata": {},
   "source": [
    "#### We can see that Benign and Malignant tumors have different distributions for mean compactness"
   ]
  },
  {
   "cell_type": "code",
   "execution_count": 30,
   "metadata": {},
   "outputs": [
    {
     "data": {
      "image/png": "[encoded data removed]",
      "text/plain": [
       "<matplotlib.figure.Figure at 0x1a18f3a588>"
      ]
     },
     "metadata": {},
     "output_type": "display_data"
    }
   ],
   "source": [
    "data['compactness_bin'] = pd.cut(data['compactness_mean'], 10)\n",
    "\n",
    "B = data.loc[data['diagnosis'] == 'B']\n",
    "M = data.loc[data['diagnosis'] == 'M']\n",
    "B_compactness = B.groupby('compactness_bin').size()\n",
    "M_compactness = M.groupby('compactness_bin').size()\n",
    "\n",
    "categories = data['compactness_bin'].cat.categories\n",
    "ind = np.array([x for x, _ in enumerate(categories)])\n",
    "width = 0.35       \n",
    "plt.bar(ind, B_compactness, width, label='Benign')\n",
    "plt.bar(ind + width, M_compactness, width,\n",
    "    label='Malignant')\n",
    "\n",
    "plt.xticks(ind + width / 2, categories)\n",
    "plt.legend(loc='best')\n",
    "plt.xticks(rotation = 90)\n",
    "plt.show()"
   ]
  },
  {
   "cell_type": "markdown",
   "metadata": {},
   "source": [
    "#### We can see that Benign and Malignant tumors have different distributions for mean smoothness"
   ]
  },
  {
   "cell_type": "code",
   "execution_count": 31,
   "metadata": {},
   "outputs": [
    {
     "data": {
      "image/png": "[encoded data removed]",
      "text/plain": [
       "<matplotlib.figure.Figure at 0x1a190362e8>"
      ]
     },
     "metadata": {},
     "output_type": "display_data"
    }
   ],
   "source": [
    "data['smoothness_bin'] = pd.cut(data['smoothness_mean'], 10)\n",
    "B = data.loc[data['diagnosis'] == 'B']\n",
    "M = data.loc[data['diagnosis'] == 'M']\n",
    "B_smoothness = B.groupby('smoothness_bin').size()\n",
    "M_smoothness = M.groupby('smoothness_bin').size()\n",
    "\n",
    "categories = data['smoothness_bin'].cat.categories\n",
    "ind = np.array([x for x, _ in enumerate(categories)])\n",
    "width = 0.35       \n",
    "plt.bar(ind, B_smoothness, width, label='Benign')\n",
    "plt.bar(ind + width, M_smoothness, width,\n",
    "    label='Malignant')\n",
    "\n",
    "plt.xticks(ind + width / 2, categories)\n",
    "plt.legend(loc='best')\n",
    "plt.xticks(rotation = 90)\n",
    "plt.show()"
   ]
  },
  {
   "cell_type": "markdown",
   "metadata": {},
   "source": [
    "### Let's build a model\n",
    "\n",
    "* We'll use Logistic Regression and Random Forest since these are classification problems"
   ]
  },
  {
   "cell_type": "code",
   "execution_count": 64,
   "metadata": {},
   "outputs": [],
   "source": [
    "from sklearn.linear_model import LogisticRegression\n",
    "from sklearn.ensemble import RandomForestClassifier\n",
    "from sklearn.model_selection import train_test_split\n",
    "from sklearn.feature_selection import SelectFromModel\n",
    "from sklearn.model_selection import GridSearchCV\n",
    "\n",
    "from sklearn.metrics import f1_score"
   ]
  },
  {
   "cell_type": "code",
   "execution_count": 33,
   "metadata": {},
   "outputs": [
    {
     "data": {
      "text/plain": [
       "0    357\n",
       "1    212\n",
       "Name: diagnosis, dtype: int64"
      ]
     },
     "execution_count": 33,
     "metadata": {},
     "output_type": "execute_result"
    }
   ],
   "source": [
    "transformed_df['diagnosis']  = (transformed_df['diagnosis'] == 'M').astype(int)\n",
    "transformed_df['diagnosis'].value_counts()"
   ]
  },
  {
   "cell_type": "code",
   "execution_count": 34,
   "metadata": {},
   "outputs": [],
   "source": [
    "X = transformed_df[transformed_df.columns[:-1]]\n",
    "y = transformed_df['diagnosis']"
   ]
  },
  {
   "cell_type": "markdown",
   "metadata": {},
   "source": [
    "### Train test split"
   ]
  },
  {
   "cell_type": "code",
   "execution_count": 35,
   "metadata": {},
   "outputs": [],
   "source": [
    "X_train, X_test, y_train, y_test = train_test_split(X,y, test_size=0.33)\n"
   ]
  },
  {
   "cell_type": "markdown",
   "metadata": {},
   "source": [
    "### Fit our training set\n",
    "\n",
    "* The default penalty for the sci-kit learn implementation of Logistic Regression is L2\n",
    "* The penaltywill use a L2 penalty, also known as "
   ]
  },
  {
   "cell_type": "code",
   "execution_count": 96,
   "metadata": {},
   "outputs": [
    {
     "data": {
      "text/plain": [
       "LogisticRegression(C=1.0, class_weight=None, dual=False, fit_intercept=True,\n",
       "          intercept_scaling=1, max_iter=100, multi_class='warn',\n",
       "          n_jobs=None, penalty='l1', random_state=None, solver='liblinear',\n",
       "          tol=0.0001, verbose=0, warm_start=False)"
      ]
     },
     "execution_count": 96,
     "metadata": {},
     "output_type": "execute_result"
    }
   ],
   "source": [
    "clf = LogisticRegression(solver='liblinear', penalty='l1')\n",
    "clf.fit(X_train, y_train)"
   ]
  },
  {
   "cell_type": "markdown",
   "metadata": {},
   "source": [
    "#### Let's look at our F1 score"
   ]
  },
  {
   "cell_type": "code",
   "execution_count": 97,
   "metadata": {},
   "outputs": [],
   "source": [
    "preds = clf.predict(X_test)\n"
   ]
  },
  {
   "cell_type": "code",
   "execution_count": 98,
   "metadata": {},
   "outputs": [
    {
     "data": {
      "text/plain": [
       "0.9565217391304348"
      ]
     },
     "execution_count": 98,
     "metadata": {},
     "output_type": "execute_result"
    }
   ],
   "source": [
    "f1_score(y_test.values, clf.predict(X_test))"
   ]
  },
  {
   "cell_type": "markdown",
   "metadata": {},
   "source": [
    "#### Let's select our top features"
   ]
  },
  {
   "cell_type": "code",
   "execution_count": 39,
   "metadata": {},
   "outputs": [
    {
     "data": {
      "text/plain": [
       "Index(['radius_mean', 'radius_sd_error', 'radius_worst', 'texture_mean',\n",
       "       'perimeter_mean', 'perimeter_sd_error', 'area_sd_error',\n",
       "       'concavity_worst', 'concave_points_mean', 'concave_points_sd_error',\n",
       "       'concave_points_worst', 'symmetry_mean', 'symmetry_worst',\n",
       "       'fractal_dimension_mean'],\n",
       "      dtype='object')"
      ]
     },
     "execution_count": 39,
     "metadata": {},
     "output_type": "execute_result"
    }
   ],
   "source": [
    "model = SelectFromModel(clf, prefit=True)\n",
    "X_new = model.transform(X_train)\n",
    "X_train.columns[model.get_support(indices=True)]"
   ]
  },
  {
   "cell_type": "markdown",
   "metadata": {},
   "source": [
    "#### Let's look at Random Forest"
   ]
  },
  {
   "cell_type": "code",
   "execution_count": 111,
   "metadata": {},
   "outputs": [
    {
     "data": {
      "text/plain": [
       "RandomForestClassifier(bootstrap=True, class_weight=None, criterion='gini',\n",
       "            max_depth=20, max_features=10, max_leaf_nodes=None,\n",
       "            min_impurity_decrease=0.0, min_impurity_split=None,\n",
       "            min_samples_leaf=1, min_samples_split=2,\n",
       "            min_weight_fraction_leaf=0.0, n_estimators=100, n_jobs=None,\n",
       "            oob_score=False, random_state=None, verbose=0,\n",
       "            warm_start=False)"
      ]
     },
     "execution_count": 111,
     "metadata": {},
     "output_type": "execute_result"
    }
   ],
   "source": [
    "clf_rf = RandomForestClassifier(n_estimators=100, min_samples_leaf=1, max_depth=20, max_features=10)\n",
    "clf_rf.fit(X_train, y_train)\n"
   ]
  },
  {
   "cell_type": "markdown",
   "metadata": {},
   "source": [
    "#### How did this model do?"
   ]
  },
  {
   "cell_type": "code",
   "execution_count": 112,
   "metadata": {},
   "outputs": [
    {
     "data": {
      "text/plain": [
       "0.943661971830986"
      ]
     },
     "execution_count": 112,
     "metadata": {},
     "output_type": "execute_result"
    }
   ],
   "source": [
    "f1_score(y_test, clf_rf.predict(X_test))"
   ]
  },
  {
   "cell_type": "markdown",
   "metadata": {},
   "source": [
    "### What are top features?"
   ]
  },
  {
   "cell_type": "code",
   "execution_count": 42,
   "metadata": {},
   "outputs": [],
   "source": [
    "model = SelectFromModel(clf_rf, prefit=True)\n",
    "X_new = model.transform(X_train)"
   ]
  },
  {
   "cell_type": "code",
   "execution_count": 43,
   "metadata": {},
   "outputs": [
    {
     "data": {
      "text/plain": [
       "Index(['radius_mean', 'radius_worst', 'texture_mean', 'perimeter_mean',\n",
       "       'perimeter_sd_error', 'smoothness_sd_error', 'concavity_worst',\n",
       "       'concave_points_sd_error', 'concave_points_worst', 'symmetry_worst',\n",
       "       'fractal_dimension_mean'],\n",
       "      dtype='object')"
      ]
     },
     "execution_count": 43,
     "metadata": {},
     "output_type": "execute_result"
    }
   ],
   "source": [
    "X_train.columns[model.get_support(indices=True)]"
   ]
  },
  {
   "cell_type": "markdown",
   "metadata": {},
   "source": [
    "#### We can also use sklearn's `SelectKBest` feature to help us determine top features"
   ]
  },
  {
   "cell_type": "code",
   "execution_count": 44,
   "metadata": {},
   "outputs": [
    {
     "data": {
      "text/plain": [
       "Index(['radius_mean', 'radius_worst', 'texture_mean', 'perimeter_mean',\n",
       "       'perimeter_sd_error', 'concavity_worst', 'concave_points_sd_error',\n",
       "       'concave_points_worst', 'symmetry_worst', 'fractal_dimension_mean'],\n",
       "      dtype='object')"
      ]
     },
     "execution_count": 44,
     "metadata": {},
     "output_type": "execute_result"
    }
   ],
   "source": [
    "from sklearn.feature_selection import SelectKBest\n",
    "\n",
    "model = SelectKBest(k=10)\n",
    "X_new = model.fit_transform(X_train, y_train)\n",
    "\n",
    "X_train.columns[model.get_support(indices=True)]"
   ]
  },
  {
   "cell_type": "markdown",
   "metadata": {},
   "source": [
    "### Dealing with overfitting\n",
    "\n",
    "* Logistic Regression\n",
    "    * We can adjust the solvers that we use \n",
    "    * Adjusting the solver may give us access to different regularization techniques penalize overfitting\n",
    "    * We can also adjust the regularization parameter C. \n",
    "\n",
    "* Random Forest\n",
    "    * With Random Forests we can adjust the following parameters:\n",
    "        * `n_estimators`: More estimators will reduce the liklihood of overfitting\n",
    "        * `max_features`: reducing this number will reduce the likliehood of overfitting\n",
    "        * `min_samples_leaf`: branches will stop splitting once each leaf contains this number of samples reducing overfitting\n",
    "        * `max_depth`: each tree will stop after `max_depth` splits, reducing the complexity of the models and chance for overfitting\n",
    "    "
   ]
  },
  {
   "cell_type": "markdown",
   "metadata": {},
   "source": [
    "## Explanation\n",
    "\n",
    "### Technical\n",
    "* Since we have a binary classification problem here Logistic and Random Fores are good choices\n",
    "* Models that may have performed better would be NaiveBayes or SVM\n",
    "* Our sample size was quite small\n",
    "* We could increase the size dataset with bootstrapping and then train on the larger dataset\n",
    "* Our target data had fairly balanced classes so the fact that we getting predictions in mid 90s is reassuring\n",
    "* We can perform a Grid Search to find optimal parameters\n",
    "* With our parameter tuned Logistic Regression model we achieve an F1 score of 97%\n",
    "    \n",
    "### Non-technical\n",
    "* We compared two models Logistic Regression and Random Forests\n",
    "* Logistic Regression is a binary classification estimator that decides between two classes of outcomes\n",
    "* In this case our Logistic Regression predicts whether or not an observation is malignant or benign\n",
    "* The simplest unit of the Random Forest is one Decision Tree and we refer to these as estimators in our analysis\n",
    "* Each estimator makes a prediction for each case as benign or malignant\n",
    "* Our Random Forest is an aggregation of predictions across our decision tree estimators\n",
    "* To evaluate the accuracy of our models we used a variety of scoring techniques\n",
    "* When we adjust some of the model parameters we can increase the accruacy of our model to 97%\n",
    "    "
   ]
  },
  {
   "cell_type": "markdown",
   "metadata": {},
   "source": [
    "### We can use a GridSearch to find good parameters for our models\n",
    "* Be aware that the more parameter combinations you use will increase the compute time"
   ]
  },
  {
   "cell_type": "code",
   "execution_count": 115,
   "metadata": {},
   "outputs": [
    {
     "name": "stdout",
     "output_type": "stream",
     "text": [
      "Fitting 5 folds for each of 220 candidates, totalling 1100 fits\n"
     ]
    },
    {
     "name": "stderr",
     "output_type": "stream",
     "text": [
      "[Parallel(n_jobs=-1)]: Using backend LokyBackend with 4 concurrent workers.\n",
      "[Parallel(n_jobs=-1)]: Done 257 tasks      | elapsed:   16.7s\n",
      "[Parallel(n_jobs=-1)]: Done 612 tasks      | elapsed:   51.0s\n",
      "[Parallel(n_jobs=-1)]: Done 862 tasks      | elapsed:  1.5min\n",
      "[Parallel(n_jobs=-1)]: Done 1100 out of 1100 | elapsed:  2.2min finished\n",
      "/Users/justinsimcock/miniconda3/envs/dawp/lib/python3.6/site-packages/sklearn/model_selection/_search.py:841: DeprecationWarning: The default of the `iid` parameter will change from True to False in version 0.22 and will be removed in 0.24. This will change numeric results when test-set sizes are unequal.\n",
      "  DeprecationWarning)\n"
     ]
    }
   ],
   "source": [
    "from sklearn.pipeline import Pipeline\n",
    "pipe = Pipeline([('classifier' , RandomForestClassifier())])\n",
    "\n",
    "# Create param grid.\n",
    "\n",
    "param_grid = [\n",
    "    {'classifier' : [LogisticRegression()],\n",
    "     'classifier__penalty' : ['l2'],\n",
    "    'classifier__C' : np.logspace(-4, 4, 20),\n",
    "    'classifier__solver' : ['lbfgs']},\n",
    "    {'classifier' : [RandomForestClassifier()],\n",
    "    'classifier__n_estimators' : list(range(10,401,10)),\n",
    "    'classifier__max_features' : list(range(6,31,5)),\n",
    "#     'classifier__min_samples_leaf': list(range(1,10)),\n",
    "#     'classifier__max_depth': list(range(1,10))\n",
    "    }\n",
    "]\n",
    "\n",
    "# Create grid search object\n",
    "\n",
    "clf = GridSearchCV(pipe, param_grid = param_grid, cv = 5, verbose=True, n_jobs=-1)\n",
    "\n",
    "# Fit on data\n",
    "\n",
    "best_clf = clf.fit(X_train, y_train)"
   ]
  },
  {
   "cell_type": "code",
   "execution_count": 116,
   "metadata": {},
   "outputs": [
    {
     "data": {
      "text/plain": [
       "LogisticRegression(C=11.288378916846883, class_weight=None, dual=False,\n",
       "          fit_intercept=True, intercept_scaling=1, max_iter=100,\n",
       "          multi_class='warn', n_jobs=None, penalty='l2', random_state=None,\n",
       "          solver='lbfgs', tol=0.0001, verbose=0, warm_start=False)"
      ]
     },
     "execution_count": 116,
     "metadata": {},
     "output_type": "execute_result"
    }
   ],
   "source": [
    "best_clf.best_estimator_.get_params()['classifier']"
   ]
  },
  {
   "cell_type": "code",
   "execution_count": 117,
   "metadata": {},
   "outputs": [
    {
     "name": "stdout",
     "output_type": "stream",
     "text": [
      "Model accuracy is 0.973404255319149\n"
     ]
    }
   ],
   "source": [
    "print('Model accuracy is',best_clf.score(X_test, y_test))"
   ]
  },
  {
   "cell_type": "code",
   "execution_count": 118,
   "metadata": {},
   "outputs": [
    {
     "data": {
      "image/png": "[encoded data removed]",
      "text/plain": [
       "<matplotlib.figure.Figure at 0x1a1b2ad390>"
      ]
     },
     "metadata": {},
     "output_type": "display_data"
    }
   ],
   "source": [
    "probs = best_clf.predict_proba(X_test)\n",
    "preds = probs[:,1]\n",
    "fpr, tpr, threshold = metrics.roc_curve(y_test, preds)\n",
    "roc_auc = metrics.auc(fpr, tpr)\n",
    "\n",
    "plt.figure()\n",
    "plt.plot(fpr, tpr, label='GridSearchCV (area = %0.6f)' % roc_auc)\n",
    "plt.plot([0, 1], [0, 1],'r--')\n",
    "plt.xlim([0.0, 1.0])\n",
    "plt.ylim([0.0, 1.05])\n",
    "plt.xlabel('False Positive Rate')\n",
    "plt.ylabel('True Positive Rate')\n",
    "plt.title('Receiver operating characteristic')\n",
    "plt.legend(loc=\"lower right\")\n",
    "plt.show()"
   ]
  },
  {
   "cell_type": "code",
   "execution_count": 119,
   "metadata": {},
   "outputs": [
    {
     "data": {
      "text/plain": [
       "0.9966101694915254"
      ]
     },
     "execution_count": 119,
     "metadata": {},
     "output_type": "execute_result"
    }
   ],
   "source": [
    "roc_auc"
   ]
  },
  {
   "cell_type": "code",
   "execution_count": 120,
   "metadata": {},
   "outputs": [
    {
     "name": "stdout",
     "output_type": "stream",
     "text": [
      "accuracy: 0.973404255319149\n",
      "\n",
      "balanced accuracy: 0.976008387813001\n",
      "\n",
      "precision: 0.9428571428571428\n",
      "\n",
      "average precision: 0.9341037971238034\n",
      "\n",
      "f1 score: 0.9635036496350364\n",
      "\n",
      "recall: 0.9850746268656716\n",
      "\n",
      "roc auc: 0.9966101694915254\n"
     ]
    }
   ],
   "source": [
    "preds = best_clf.predict(X_test)\n",
    "\n",
    "accuracy = metrics.accuracy_score(preds, y_test)\n",
    "print(f'accuracy: {accuracy}')\n",
    "print()\n",
    "balanced_accuracy = metrics.balanced_accuracy_score(preds, y_test)\n",
    "print(f'balanced accuracy: {balanced_accuracy}')\n",
    "print()\n",
    "precision = metrics.precision_score(preds, y_test)\n",
    "print(f'precision: {precision}')\n",
    "print()\n",
    "average_precision = metrics.average_precision_score(preds, y_test)\n",
    "print(f'average precision: {average_precision}')\n",
    "print()\n",
    "f1_score = metrics.f1_score(preds, y_test)\n",
    "print(f'f1 score: {f1_score}')\n",
    "print()\n",
    "recall = metrics.recall_score(preds, y_test)\n",
    "print(f'recall: {recall}')\n",
    "print()\n",
    "print(f'roc auc: {roc_auc}')\n"
   ]
  },
  {
   "cell_type": "code",
   "execution_count": 121,
   "metadata": {},
   "outputs": [
    {
     "name": "stdout",
     "output_type": "stream",
     "text": [
      "              precision    recall  f1-score   support\n",
      "\n",
      "           0       0.99      0.97      0.98       121\n",
      "           1       0.94      0.99      0.96        67\n",
      "\n",
      "   micro avg       0.97      0.97      0.97       188\n",
      "   macro avg       0.97      0.98      0.97       188\n",
      "weighted avg       0.97      0.97      0.97       188\n",
      "\n"
     ]
    }
   ],
   "source": [
    "\n",
    "print(metrics.classification_report(preds, y_test))"
   ]
  },
  {
   "cell_type": "markdown",
   "metadata": {},
   "source": [
    "## PART 2"
   ]
  },
  {
   "cell_type": "markdown",
   "metadata": {},
   "source": [
    "### Student 1\n",
    "\n",
    "* My comments indicated by `##`"
   ]
  },
  {
   "cell_type": "code",
   "execution_count": 52,
   "metadata": {},
   "outputs": [],
   "source": [
    "#!/usr/bin/env python\n",
    "\n",
    "import pandas as pd\n",
    "import numpy as np\n",
    "## this fails because LinearRegression Class is not directly importable\n",
    "## Try this: from sklearn.linear_model import LinearRegression\n",
    "from sklearn import LinearRegression\n",
    "\n",
    "## this also failes because we need `cross_validation` is not the correct subdirectory\n",
    "## Try this: from sklearn.model_selection import cross_val_score\n",
    "from sklearn.cross_validation import cross_val_score\n",
    "\n",
    "# Load data\n",
    "#we need a better variable name than `d`\n",
    "d = pd.read_csv('data/train.csv')\n",
    "\n",
    "\n",
    "# Setup data for prediction\n",
    "## This will throw an error since we've assigned our dataframe to the `d` variable\n",
    "x1 = data.SalaryNormalized\n",
    "\n",
    "# Should we consider any other features that may influence salary than the type of contract?\n",
    "x2 = pd.get_dummies(data.ContractType)\n",
    "\n",
    "# Setup model\n",
    "\n",
    "# Are there other models you could consider in addition to linear regression?\n",
    "model = LinearRegression()\n",
    "\n",
    "# Evaluate model\n",
    "\n",
    "## These imports are most appropriate at the top\n",
    "## We've already imported cross_val_score\n",
    "## We attempt to import train_test_split but never use it\n",
    "## This is the wrong subfolder for the train_test_split function\n",
    "## To import try this: from sklearn.model_selection import train_test_split\n",
    "## Using a value of `1` for the cv option is inappropriate. This will throw an error. It needs to be at least two\n",
    "## The default value is 3 in the current version and will be 5 in v 0.22 of sklearn\n",
    "## The string `mean_absolute_error used in the scoring function is not a valid parameter value\n",
    "## Try values from here: https://scikit-learn.org/stable/modules/model_evaluation.html#scoring-parameter\n",
    "\n",
    "\n",
    "from sklearn.cross_validation import cross_val_score\n",
    "from sklearn.cross_validation import train_test_split\n",
    "scores = cross_val_score(model, x2, x1, cv=1, scoring='mean_absolute_error')\n",
    "print(scores.mean())"
   ]
  },
  {
   "cell_type": "markdown",
   "metadata": {},
   "source": [
    "### Student 2"
   ]
  },
  {
   "cell_type": "code",
   "execution_count": 53,
   "metadata": {},
   "outputs": [],
   "source": [
    "!/usr/bin/env python\n",
    "\n",
    "import pandas as pd\n",
    "import numpy as np\n",
    "from sklearn.linear_model import LinearRegression\n",
    "\n",
    "## This will throw an error since its being imported from the wrong location in sklearn\n",
    "## Try this: from sklearn.model_selection import cross_val_score\n",
    "from sklearn.cross_validation import cross_val_score\n",
    "\n",
    "# Load data\n",
    "\n",
    "data = pd.read_csv('../data/train.csv')\n",
    "\n",
    "\n",
    "# Setup data for prediction\n",
    "y = data.SalaryNormalized\n",
    "\n",
    "# Should we consider any other features that may influence salary than the type of contract?\n",
    "X = pd.get_dummies(data.ContractType)\n",
    "\n",
    "# Setup model\n",
    "\n",
    "# Are there other models you could consider in addition to linear regression?\n",
    "model = LinearRegression()\n",
    "\n",
    "# Evaluate model\n",
    "\n",
    "## The string `mean_absolute_error used in the scoring function is not a valid parameter value\n",
    "## Try values from here: https://scikit-learn.org/stable/modules/model_evaluation.html#scoring-parameter\n",
    "\n",
    "scores = cross_val_score(model, X, y, cv=5, scoring='mean_absolute_error')\n",
    "print(scores.mean())"
   ]
  },
  {
   "cell_type": "code",
   "execution_count": null,
   "metadata": {},
   "outputs": [],
   "source": []
  }
 ],
 "metadata": {
  "kernelspec": {
   "display_name": "Python 3",
   "language": "python",
   "name": "python3"
  },
  "language_info": {
   "codemirror_mode": {
    "name": "ipython",
    "version": 3
   },
   "file_extension": ".py",
   "mimetype": "text/x-python",
   "name": "python",
   "nbconvert_exporter": "python",
   "pygments_lexer": "ipython3",
   "version": "3.6.3"
  }
 },
 "nbformat": 4,
 "nbformat_minor": 2
}
